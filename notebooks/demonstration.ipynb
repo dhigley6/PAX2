{
 "cells": [
  {
   "cell_type": "markdown",
   "metadata": {},
   "source": [
    "# Demonstration of deconvolving PAX data\n",
    "For details, see the manuscript"
   ]
  },
  {
   "cell_type": "code",
   "execution_count": 1,
   "metadata": {},
   "outputs": [],
   "source": [
    "# Install pax_deconvolve\n",
    "#!pip install git+https://github.com/dhigley6/PAX2"
   ]
  },
  {
   "cell_type": "code",
   "execution_count": 2,
   "metadata": {},
   "outputs": [],
   "source": [
    "# import standard python modules:\n",
    "import numpy as np \n",
    "%matplotlib inline\n",
    "%load_ext tensorboard\n",
    "\n",
    "# import custom python modules:\n",
    "from pax_deconvolve.pax_simulations import simulate_pax\n",
    "from pax_deconvolve.deconvolution import deconvolvers, assess_convergence\n",
    "from pax_deconvolve import visualize\n",
    "\n",
    "# set simulation parameters\n",
    "LOG10_NUM_ELECTRONS = 5.0  # 10^7 detected electrons (over entire dateset)\n",
    "RIXS_MODEL = 'schlappa'  # use RIXS model chosen to approximate that in Schlappa's paper\n",
    "PHOTOEMISSION_MODEL = 'ag'   # use Ag 3d core levels as model photoemission\n",
    "NUM_SIMULATIONS = 100    # Number of PAX spectra to simulate\n",
    "ENERGY_LOSS = np.arange(-8, 10, 0.01)  # energy loss values of RIXS to simulate over\n",
    "REGULARIZATION_STRENGTHS = np.logspace(-3, -1, 10)  # Regularization strengths to try\n",
    "ITERATIONS = 100    # Number of iterations to run simulations for\n",
    "CV_FOLD = 3   # Number of folds to use for cross validation"
   ]
  },
  {
   "cell_type": "code",
   "execution_count": 3,
   "metadata": {},
   "outputs": [],
   "source": [
    "# Simulate some PAX data \n",
    "impulse_response, pax_spectra, xray_xy = simulate_pax.simulate_from_presets(\n",
    "    LOG10_NUM_ELECTRONS,\n",
    "    RIXS_MODEL,\n",
    "    PHOTOEMISSION_MODEL,\n",
    "    NUM_SIMULATIONS,\n",
    "    ENERGY_LOSS\n",
    ")"
   ]
  },
  {
   "cell_type": "code",
   "execution_count": 4,
   "metadata": {},
   "outputs": [
    {
     "data": {
      "text/plain": [
       "Reusing TensorBoard on port 6006 (pid 57888), started 22:58:31 ago. (Use '!kill 57888' to kill it.)"
      ]
     },
     "metadata": {},
     "output_type": "display_data"
    },
    {
     "data": {
      "text/html": [
       "\n",
       "      <iframe id=\"tensorboard-frame-8cb766cbaaa8ba42\" width=\"100%\" height=\"800\" frameborder=\"0\">\n",
       "      </iframe>\n",
       "      <script>\n",
       "        (function() {\n",
       "          const frame = document.getElementById(\"tensorboard-frame-8cb766cbaaa8ba42\");\n",
       "          const url = new URL(\"/\", window.location);\n",
       "          url.port = 6006;\n",
       "          frame.src = url;\n",
       "        })();\n",
       "      </script>\n",
       "  "
      ],
      "text/plain": [
       "<IPython.core.display.HTML object>"
      ]
     },
     "metadata": {},
     "output_type": "display_data"
    }
   ],
   "source": [
    "# Assess convergence of PAX data\n",
    "\n",
    "# Run convergence assessment\n",
    "assess_convergence.run(\n",
    "    impulse_response['x'],\n",
    "    impulse_response['y'],\n",
    "    pax_spectra['x'],\n",
    "    pax_spectra['y'],\n",
    "    REGULARIZATION_STRENGTHS,\n",
    "    ITERATIONS\n",
    ")\n",
    "\n",
    "# Show data which can be used to assess convergence (see manuscript):\n",
    "%tensorboard --logdir logdir\n",
    "# Since this is simulated data, the deconvolved mean squared error is also shown,\n",
    "# but that would usually not be accessible since the ground truth is usually\n",
    "# unknown"
   ]
  },
  {
   "cell_type": "code",
   "execution_count": null,
   "metadata": {},
   "outputs": [
    {
     "name": "stdout",
     "output_type": "stream",
     "text": [
      "Fitting 3 folds for each of 10 candidates, totalling 30 fits\n"
     ]
    },
    {
     "name": "stderr",
     "output_type": "stream",
     "text": [
      "[Parallel(n_jobs=-1)]: Using backend LokyBackend with 16 concurrent workers.\n"
     ]
    }
   ],
   "source": [
    "#  Deconvolve PAX data, determining regulariation strength by cross validation of how well\n",
    "#  we can estimate unseen data from the deconvolved result\n",
    "\n",
    "# Run deconvolution\n",
    "deconvolver = deconvolvers.LRFisterGrid(\n",
    "        impulse_response['x'],\n",
    "        impulse_response['y'],\n",
    "        pax_spectra['x'],\n",
    "        REGULARIZATION_STRENGTHS,\n",
    "        ITERATIONS,\n",
    "        xray_xy['y'],\n",
    "        CV_FOLD\n",
    ")\n",
    "_ = deconvolver.fit(np.array(pax_spectra['y']))"
   ]
  },
  {
   "cell_type": "code",
   "execution_count": null,
   "metadata": {},
   "outputs": [],
   "source": [
    "# Plot results\n",
    "visualize.plot_photoemission(deconvolver)\n",
    "visualize.plot_result(deconvolver)\n",
    "visualize.plot_cv(deconvolver)"
   ]
  },
  {
   "cell_type": "code",
   "execution_count": null,
   "metadata": {},
   "outputs": [],
   "source": [
    "# save result for further processing\n",
    "deconvolved_x = deconvolver.deconvolved_x    # Photon energies of deconvolved result\n",
    "deconvolved_y = deconvolver.deconvolved_y_   # intensities of deconvolved result"
   ]
  },
  {
   "cell_type": "code",
   "execution_count": null,
   "metadata": {},
   "outputs": [],
   "source": [
    "dir(deconvolver)"
   ]
  },
  {
   "cell_type": "code",
   "execution_count": null,
   "metadata": {},
   "outputs": [],
   "source": [
    "len(deconvolver.deconvolved_y_)\n"
   ]
  },
  {
   "cell_type": "code",
   "execution_count": null,
   "metadata": {},
   "outputs": [],
   "source": [
    "len(deconvolver.ground_truth_y)"
   ]
  },
  {
   "cell_type": "code",
   "execution_count": null,
   "metadata": {},
   "outputs": [],
   "source": [
    "len(deconvolver.measured_y_)"
   ]
  },
  {
   "cell_type": "code",
   "execution_count": null,
   "metadata": {},
   "outputs": [],
   "source": []
  }
 ],
 "metadata": {
  "kernelspec": {
   "display_name": "Python 3",
   "language": "python",
   "name": "python3"
  },
  "language_info": {
   "codemirror_mode": {
    "name": "ipython",
    "version": 3
   },
   "file_extension": ".py",
   "mimetype": "text/x-python",
   "name": "python",
   "nbconvert_exporter": "python",
   "pygments_lexer": "ipython3",
   "version": "3.7.7"
  }
 },
 "nbformat": 4,
 "nbformat_minor": 2
}
