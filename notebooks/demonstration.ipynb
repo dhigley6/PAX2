{
 "cells": [
  {
   "cell_type": "markdown",
   "metadata": {},
   "source": [
    "# Demonstration of deconvolving PAX data\n",
    "For details, see the manuscript"
   ]
  },
  {
   "cell_type": "code",
   "execution_count": 1,
   "metadata": {},
   "outputs": [
    {
     "output_type": "stream",
     "name": "stdout",
     "text": "Collecting git+https://github.com/dhigley6/PAX2\n  Cloning https://github.com/dhigley6/PAX2 to /private/var/folders/kq/k9nxkk_d5k1dn57j325m60g8_y96qp/T/pip-req-build-fyibv9fa\n  Running command git clone -q https://github.com/dhigley6/PAX2 /private/var/folders/kq/k9nxkk_d5k1dn57j325m60g8_y96qp/T/pip-req-build-fyibv9fa\nRequirement already satisfied: numpy in /Users/dhigley/opt/anaconda3/lib/python3.7/site-packages (from pax2==0.0.1) (1.18.1)\nRequirement already satisfied: matplotlib in /Users/dhigley/opt/anaconda3/lib/python3.7/site-packages (from pax2==0.0.1) (3.1.3)\nRequirement already satisfied: joblib in /Users/dhigley/opt/anaconda3/lib/python3.7/site-packages (from pax2==0.0.1) (0.14.1)\nRequirement already satisfied: tensorflow in /Users/dhigley/opt/anaconda3/lib/python3.7/site-packages (from pax2==0.0.1) (2.0.0)\nRequirement already satisfied: sklearn in /Users/dhigley/opt/anaconda3/lib/python3.7/site-packages (from pax2==0.0.1) (0.0)\nRequirement already satisfied: scipy in /Users/dhigley/opt/anaconda3/lib/python3.7/site-packages (from pax2==0.0.1) (1.4.1)\nRequirement already satisfied: pprint in /Users/dhigley/opt/anaconda3/lib/python3.7/site-packages (from pax2==0.0.1) (0.1)\nRequirement already satisfied: cycler>=0.10 in /Users/dhigley/opt/anaconda3/lib/python3.7/site-packages (from matplotlib->pax2==0.0.1) (0.10.0)\nRequirement already satisfied: kiwisolver>=1.0.1 in /Users/dhigley/opt/anaconda3/lib/python3.7/site-packages (from matplotlib->pax2==0.0.1) (1.1.0)\nRequirement already satisfied: python-dateutil>=2.1 in /Users/dhigley/opt/anaconda3/lib/python3.7/site-packages (from matplotlib->pax2==0.0.1) (2.8.1)\nRequirement already satisfied: pyparsing!=2.0.4,!=2.1.2,!=2.1.6,>=2.0.1 in /Users/dhigley/opt/anaconda3/lib/python3.7/site-packages (from matplotlib->pax2==0.0.1) (2.4.6)\nRequirement already satisfied: grpcio>=1.8.6 in /Users/dhigley/opt/anaconda3/lib/python3.7/site-packages (from tensorflow->pax2==0.0.1) (1.16.1)\nRequirement already satisfied: google-pasta>=0.1.6 in /Users/dhigley/opt/anaconda3/lib/python3.7/site-packages (from tensorflow->pax2==0.0.1) (0.2.0)\nRequirement already satisfied: tensorboard<2.1.0,>=2.0.0 in /Users/dhigley/opt/anaconda3/lib/python3.7/site-packages (from tensorflow->pax2==0.0.1) (2.0.0)\nRequirement already satisfied: tensorflow-estimator<2.1.0,>=2.0.0 in /Users/dhigley/opt/anaconda3/lib/python3.7/site-packages (from tensorflow->pax2==0.0.1) (2.0.0)\nRequirement already satisfied: termcolor>=1.1.0 in /Users/dhigley/opt/anaconda3/lib/python3.7/site-packages (from tensorflow->pax2==0.0.1) (1.1.0)\nRequirement already satisfied: keras-applications>=1.0.8 in /Users/dhigley/opt/anaconda3/lib/python3.7/site-packages (from tensorflow->pax2==0.0.1) (1.0.8)\nRequirement already satisfied: wheel>=0.26 in /Users/dhigley/opt/anaconda3/lib/python3.7/site-packages (from tensorflow->pax2==0.0.1) (0.34.2)\nRequirement already satisfied: keras-preprocessing>=1.0.5 in /Users/dhigley/opt/anaconda3/lib/python3.7/site-packages (from tensorflow->pax2==0.0.1) (1.1.0)\nRequirement already satisfied: six>=1.10.0 in /Users/dhigley/opt/anaconda3/lib/python3.7/site-packages (from tensorflow->pax2==0.0.1) (1.14.0)\nRequirement already satisfied: astor>=0.6.0 in /Users/dhigley/opt/anaconda3/lib/python3.7/site-packages (from tensorflow->pax2==0.0.1) (0.8.0)\nRequirement already satisfied: wrapt>=1.11.1 in /Users/dhigley/opt/anaconda3/lib/python3.7/site-packages (from tensorflow->pax2==0.0.1) (1.12.1)\nRequirement already satisfied: gast==0.2.2 in /Users/dhigley/opt/anaconda3/lib/python3.7/site-packages (from tensorflow->pax2==0.0.1) (0.2.2)\nRequirement already satisfied: protobuf>=3.6.1 in /Users/dhigley/opt/anaconda3/lib/python3.7/site-packages (from tensorflow->pax2==0.0.1) (3.8.0)\nRequirement already satisfied: opt-einsum>=2.3.2 in /Users/dhigley/opt/anaconda3/lib/python3.7/site-packages (from tensorflow->pax2==0.0.1) (3.1.0)\nRequirement already satisfied: absl-py>=0.7.0 in /Users/dhigley/opt/anaconda3/lib/python3.7/site-packages (from tensorflow->pax2==0.0.1) (0.9.0)\nRequirement already satisfied: scikit-learn in /Users/dhigley/opt/anaconda3/lib/python3.7/site-packages (from sklearn->pax2==0.0.1) (0.22.1)\nRequirement already satisfied: setuptools in /Users/dhigley/opt/anaconda3/lib/python3.7/site-packages (from kiwisolver>=1.0.1->matplotlib->pax2==0.0.1) (46.1.3.post20200330)\nRequirement already satisfied: werkzeug>=0.11.15 in /Users/dhigley/opt/anaconda3/lib/python3.7/site-packages (from tensorboard<2.1.0,>=2.0.0->tensorflow->pax2==0.0.1) (1.0.0)\nRequirement already satisfied: markdown>=2.6.8 in /Users/dhigley/opt/anaconda3/lib/python3.7/site-packages (from tensorboard<2.1.0,>=2.0.0->tensorflow->pax2==0.0.1) (3.1.1)\nRequirement already satisfied: h5py in /Users/dhigley/opt/anaconda3/lib/python3.7/site-packages (from keras-applications>=1.0.8->tensorflow->pax2==0.0.1) (2.10.0)\nBuilding wheels for collected packages: pax2\n  Building wheel for pax2 (setup.py) ... \u001b[?25ldone\n\u001b[?25h  Created wheel for pax2: filename=pax2-0.0.1-py3-none-any.whl size=14573 sha256=2cecf6b6751462f1f44de186683e024907823348df4345d8a0c22dc2837b4f4f\n  Stored in directory: /private/var/folders/kq/k9nxkk_d5k1dn57j325m60g8_y96qp/T/pip-ephem-wheel-cache-2iy5oxqa/wheels/37/4c/ca/9b9f559444946e0747aa87ed9c5d6159b63bd0ee750029c7f0\nSuccessfully built pax2\nInstalling collected packages: pax2\nSuccessfully installed pax2-0.0.1\n"
    }
   ],
   "source": [
    "# Install pax_deconvolve\n",
    "!pip install git+https://github.com/dhigley6/PAX2"
   ]
  },
  {
   "cell_type": "code",
   "execution_count": 2,
   "metadata": {},
   "outputs": [],
   "source": [
    "# import standard python modules:\n",
    "import numpy as np \n",
    "%matplotlib inline\n",
    "%load_ext tensorboard\n",
    "\n",
    "# import custom python modules:\n",
    "from pax_deconvolve.pax_simulations import simulate_pax\n",
    "from pax_deconvolve.deconvolution import deconvolvers, assess_convergence\n",
    "from pax_deconvolve import visualize\n",
    "\n",
    "# set simulation parameters\n",
    "LOG10_NUM_ELECTRONS = 5.0  # 10^7 detected electrons (over entire dateset)\n",
    "RIXS_MODEL = 'schlappa'  # use RIXS model chosen to approximate that in Schlappa's paper\n",
    "PHOTOEMISSION_MODEL = 'ag'   # use Ag 3d core levels as model photoemission\n",
    "NUM_SIMULATIONS = 100    # Number of PAX spectra to simulate\n",
    "ENERGY_LOSS = np.arange(-8, 10, 0.01)  # energy loss values of RIXS to simulate over\n",
    "REGULARIZATION_STRENGTHS = np.logspace(-3, -1, 10)  # Regularization strengths to try\n",
    "ITERATIONS = 100    # Number of iterations to run simulations for\n",
    "CV_FOLD = 3   # Number of folds to use for cross validation"
   ]
  },
  {
   "cell_type": "code",
   "execution_count": 3,
   "metadata": {},
   "outputs": [],
   "source": [
    "# Simulate some PAX data \n",
    "impulse_response, pax_spectra, xray_xy = simulate_pax.simulate_from_presets(\n",
    "    LOG10_NUM_ELECTRONS,\n",
    "    RIXS_MODEL,\n",
    "    PHOTOEMISSION_MODEL,\n",
    "    NUM_SIMULATIONS,\n",
    "    ENERGY_LOSS\n",
    ")"
   ]
  },
  {
   "cell_type": "code",
   "execution_count": 4,
   "metadata": {},
   "outputs": [
    {
     "data": {
      "text/plain": "Reusing TensorBoard on port 6006 (pid 33304), started 1 day, 5:24:15 ago. (Use '!kill 33304' to kill it.)"
     },
     "metadata": {},
     "output_type": "display_data"
    }
   ],
   "source": [
    "# Assess convergence of PAX data\n",
    "\n",
    "# Run convergence assessment\n",
    "assess_convergence.run(\n",
    "    impulse_response,\n",
    "    pax_spectra,\n",
    "    xray_xy,\n",
    "    REGULARIZATION_STRENGTHS,\n",
    "    ITERATIONS\n",
    ")\n",
    "\n",
    "# Show data which can be used to assess convergence (see manuscript):\n",
    "%tensorboard --logdir logdir\n",
    "# Since this is simulated data, the deconvolved mean squared error is also shown,\n",
    "# but that would usually not be accessible since the ground truth is usually\n",
    "# unknown"
   ]
  },
  {
   "cell_type": "code",
   "execution_count": 5,
   "metadata": {},
   "outputs": [
    {
     "output_type": "stream",
     "name": "stdout",
     "text": "Fitting 3 folds for each of 10 candidates, totalling 30 fits\n[Parallel(n_jobs=-1)]: Using backend LokyBackend with 16 concurrent workers.\n[Parallel(n_jobs=-1)]: Done  30 out of  30 | elapsed:    3.6s remaining:    0.0s\n[Parallel(n_jobs=-1)]: Done  30 out of  30 | elapsed:    3.6s finished\n"
    }
   ],
   "source": [
    "#  Deconvolve PAX data, determining regulariation strength by cross validation of how well\n",
    "#  we can estimate unseen data from the deconvolved result\n",
    "\n",
    "# Run deconvolution\n",
    "deconvolver = deconvolvers.LRFisterGrid(\n",
    "        impulse_response['x'],\n",
    "        impulse_response['y'],\n",
    "        pax_spectra['x'],\n",
    "        REGULARIZATION_STRENGTHS,\n",
    "        ITERATIONS,\n",
    "        xray_xy['y'],\n",
    "        CV_FOLD\n",
    ")\n",
    "_ = deconvolver.fit(np.array(pax_spectra['y']))"
   ]
  },
  {
   "cell_type": "code",
   "execution_count": 6,
   "metadata": {},
   "outputs": [
    {
     "output_type": "error",
     "ename": "AttributeError",
     "evalue": "'LRFisterGrid' object has no attribute 'reconvolved_x'",
     "traceback": [
      "\u001b[0;31m---------------------------------------------------------------------------\u001b[0m",
      "\u001b[0;31mAttributeError\u001b[0m                            Traceback (most recent call last)",
      "\u001b[0;32m<ipython-input-6-28b00a0241b2>\u001b[0m in \u001b[0;36m<module>\u001b[0;34m\u001b[0m\n\u001b[1;32m      1\u001b[0m \u001b[0;31m# Plot results\u001b[0m\u001b[0;34m\u001b[0m\u001b[0;34m\u001b[0m\u001b[0;34m\u001b[0m\u001b[0m\n\u001b[1;32m      2\u001b[0m \u001b[0mvisualize\u001b[0m\u001b[0;34m.\u001b[0m\u001b[0mplot_photoemission\u001b[0m\u001b[0;34m(\u001b[0m\u001b[0mdeconvolver\u001b[0m\u001b[0;34m)\u001b[0m\u001b[0;34m\u001b[0m\u001b[0;34m\u001b[0m\u001b[0m\n\u001b[0;32m----> 3\u001b[0;31m \u001b[0mvisualize\u001b[0m\u001b[0;34m.\u001b[0m\u001b[0mplot_result\u001b[0m\u001b[0;34m(\u001b[0m\u001b[0mdeconvolver\u001b[0m\u001b[0;34m)\u001b[0m\u001b[0;34m\u001b[0m\u001b[0;34m\u001b[0m\u001b[0m\n\u001b[0m\u001b[1;32m      4\u001b[0m \u001b[0mvisualize\u001b[0m\u001b[0;34m.\u001b[0m\u001b[0mplot_cv\u001b[0m\u001b[0;34m(\u001b[0m\u001b[0mdeconvolver\u001b[0m\u001b[0;34m)\u001b[0m\u001b[0;34m\u001b[0m\u001b[0;34m\u001b[0m\u001b[0m\n",
      "\u001b[0;32m~/opt/anaconda3/lib/python3.7/site-packages/pax_deconvolve/visualize/plot_result.py\u001b[0m in \u001b[0;36mplot_result\u001b[0;34m(deconvolved)\u001b[0m\n\u001b[1;32m     16\u001b[0m     \u001b[0m_\u001b[0m\u001b[0;34m,\u001b[0m \u001b[0maxs\u001b[0m \u001b[0;34m=\u001b[0m \u001b[0mplt\u001b[0m\u001b[0;34m.\u001b[0m\u001b[0msubplots\u001b[0m\u001b[0;34m(\u001b[0m\u001b[0;36m2\u001b[0m\u001b[0;34m,\u001b[0m \u001b[0;36m1\u001b[0m\u001b[0;34m)\u001b[0m\u001b[0;34m\u001b[0m\u001b[0;34m\u001b[0m\u001b[0m\n\u001b[1;32m     17\u001b[0m     \u001b[0m_make_deconvolved_plot\u001b[0m\u001b[0;34m(\u001b[0m\u001b[0maxs\u001b[0m\u001b[0;34m[\u001b[0m\u001b[0;36m0\u001b[0m\u001b[0;34m]\u001b[0m\u001b[0;34m,\u001b[0m \u001b[0mdeconvolved\u001b[0m\u001b[0;34m)\u001b[0m\u001b[0;34m\u001b[0m\u001b[0;34m\u001b[0m\u001b[0m\n\u001b[0;32m---> 18\u001b[0;31m     \u001b[0m_make_reconvolved_plot\u001b[0m\u001b[0;34m(\u001b[0m\u001b[0maxs\u001b[0m\u001b[0;34m[\u001b[0m\u001b[0;36m1\u001b[0m\u001b[0;34m]\u001b[0m\u001b[0;34m,\u001b[0m \u001b[0mdeconvolved\u001b[0m\u001b[0;34m)\u001b[0m\u001b[0;34m\u001b[0m\u001b[0;34m\u001b[0m\u001b[0m\n\u001b[0m\u001b[1;32m     19\u001b[0m     \u001b[0m_format_plot\u001b[0m\u001b[0;34m(\u001b[0m\u001b[0maxs\u001b[0m\u001b[0;34m)\u001b[0m\u001b[0;34m\u001b[0m\u001b[0;34m\u001b[0m\u001b[0m\n\u001b[1;32m     20\u001b[0m \u001b[0;34m\u001b[0m\u001b[0m\n",
      "\u001b[0;32m~/opt/anaconda3/lib/python3.7/site-packages/pax_deconvolve/visualize/plot_result.py\u001b[0m in \u001b[0;36m_make_reconvolved_plot\u001b[0;34m(ax, deconvolved)\u001b[0m\n\u001b[1;32m     24\u001b[0m \u001b[0;34m\u001b[0m\u001b[0m\n\u001b[1;32m     25\u001b[0m \u001b[0;32mdef\u001b[0m \u001b[0m_make_reconvolved_plot\u001b[0m\u001b[0;34m(\u001b[0m\u001b[0max\u001b[0m\u001b[0;34m,\u001b[0m \u001b[0mdeconvolved\u001b[0m\u001b[0;34m)\u001b[0m\u001b[0;34m:\u001b[0m\u001b[0;34m\u001b[0m\u001b[0;34m\u001b[0m\u001b[0m\n\u001b[0;32m---> 26\u001b[0;31m     \u001b[0max\u001b[0m\u001b[0;34m.\u001b[0m\u001b[0mplot\u001b[0m\u001b[0;34m(\u001b[0m\u001b[0mdeconvolved\u001b[0m\u001b[0;34m.\u001b[0m\u001b[0mreconvolved_x\u001b[0m\u001b[0;34m,\u001b[0m \u001b[0mdeconvolved\u001b[0m\u001b[0;34m.\u001b[0m\u001b[0mmeasured_y_\u001b[0m\u001b[0;34m,\u001b[0m \u001b[0mlabel\u001b[0m\u001b[0;34m=\u001b[0m\u001b[0;34m'Measured'\u001b[0m\u001b[0;34m)\u001b[0m\u001b[0;34m\u001b[0m\u001b[0;34m\u001b[0m\u001b[0m\n\u001b[0m\u001b[1;32m     27\u001b[0m     \u001b[0max\u001b[0m\u001b[0;34m.\u001b[0m\u001b[0mplot\u001b[0m\u001b[0;34m(\u001b[0m\u001b[0mdeconvolved\u001b[0m\u001b[0;34m.\u001b[0m\u001b[0mreconvolved_x\u001b[0m\u001b[0;34m,\u001b[0m \u001b[0mdeconvolved\u001b[0m\u001b[0;34m.\u001b[0m\u001b[0mreconvolved_y_\u001b[0m\u001b[0;34m,\u001b[0m \u001b[0mlabel\u001b[0m\u001b[0;34m=\u001b[0m\u001b[0;34m'Reconvolved'\u001b[0m\u001b[0;34m)\u001b[0m\u001b[0;34m\u001b[0m\u001b[0;34m\u001b[0m\u001b[0m\n\u001b[1;32m     28\u001b[0m \u001b[0;34m\u001b[0m\u001b[0m\n",
      "\u001b[0;31mAttributeError\u001b[0m: 'LRFisterGrid' object has no attribute 'reconvolved_x'"
     ]
    }
   ],
   "source": [
    "# Plot results\n",
    "visualize.plot_photoemission(deconvolver)\n",
    "visualize.plot_result(deconvolver)\n",
    "visualize.plot_cv(deconvolver)"
   ]
  },
  {
   "cell_type": "code",
   "execution_count": 7,
   "metadata": {},
   "outputs": [],
   "source": [
    "# save result for further processing\n",
    "deconvolved_x = deconvolver.deconvolved_x    # Photon energies of deconvolved result\n",
    "deconvolved_y = deconvolver.deconvolved_y_   # intensities of deconvolved result"
   ]
  }
 ],
 "metadata": {
  "kernelspec": {
   "display_name": "Python 3",
   "language": "python",
   "name": "python3"
  },
  "language_info": {
   "codemirror_mode": {
    "name": "ipython",
    "version": 3
   },
   "file_extension": ".py",
   "mimetype": "text/x-python",
   "name": "python",
   "nbconvert_exporter": "python",
   "pygments_lexer": "ipython3",
   "version": "3.7.7-final"
  }
 },
 "nbformat": 4,
 "nbformat_minor": 2
}