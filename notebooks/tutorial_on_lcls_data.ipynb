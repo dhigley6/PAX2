{
 "cells": [
  {
   "cell_type": "code",
   "execution_count": null,
   "metadata": {},
   "outputs": [],
   "source": [
    "%matplotlib inline\n",
    "# import standard python modules\n",
    "import numpy as np\n",
    "import matplotlib.pyplot as plt\n",
    "\n",
    "# import custom modules\n",
    "import pax_lcls2016\n",
    "from pax_deconvolve.deconvolution import deconvolvers"
   ]
  },
  {
   "cell_type": "code",
   "execution_count": null,
   "metadata": {},
   "outputs": [],
   "source": [
    "# load lcls data\n",
    "specs = pax_lcls2016.get_lcls_specs()"
   ]
  },
  {
   "cell_type": "code",
   "execution_count": null,
   "metadata": {},
   "outputs": [],
   "source": [
    "# Plot the measured Au 4f photoemission spectrum\n",
    "plt.figure()\n",
    "plt.plot(specs['psf']['x'], specs['psf']['y'])\n",
    "plt.gca().set_xlabel('Kinetic Energy (eV)')\n",
    "plt.gca().set_ylabel('Intensity (a.u.)')"
   ]
  },
  {
   "cell_type": "code",
   "execution_count": null,
   "metadata": {},
   "outputs": [],
   "source": [
    "# Now plot the measured PAX spectra\n",
    "plt.figure()\n",
    "for ind, spec in enumerate(specs['spectra']):\n",
    "    norm_spec = spec['y']/np.amax(spec['y'])\n",
    "    offset = ind\n",
    "    incident_photon_energy = specs['incident_photon_energy'][ind]\n",
    "    label = ''.join([str(incident_photon_energy), ' eV'])\n",
    "    plt.plot(spec['x'], norm_spec+offset, label=label)\n",
    "plt.gcf().legend(loc=7)\n",
    "plt.gca().set_xlabel('Kinetic Energy (eV)')\n",
    "plt.gca().set_ylabel('Intensity (a.u.)')\n",
    "plt.gcf().tight_layout()\n",
    "plt.gcf().subplots_adjust(right=0.8)"
   ]
  },
  {
   "cell_type": "code",
   "execution_count": null,
   "metadata": {},
   "outputs": [],
   "source": [
    "# Deconvolve the PAX spectra\n",
    "deconvolver_list = []\n",
    "for ind, spec in enumerate(specs['spectra']):\n",
    "    deconvolver = deconvolvers.LRFisterDeconvolve(\n",
    "        specs['psf']['x'],\n",
    "        specs['psf']['y']/np.sum(specs['psf']['y']),   # impulse response function needs to be normalized to unit integral\n",
    "        specs['spectra'][ind]['x'],\n",
    "        regularization_strength=0.02,     # units of eV\n",
    "        iterations=1000\n",
    "    )\n",
    "    test0 = spec['y']\n",
    "    test = np.array([test0])  # input to deconvolve needs to be a 2d array. This adds the 2nd (length 1) dimension\n",
    "    _ = deconvolver.fit(test)\n",
    "    deconvolver_list.append(deconvolver)"
   ]
  },
  {
   "cell_type": "code",
   "execution_count": null,
   "metadata": {},
   "outputs": [],
   "source": [
    "# Make figure showing deconvolved results\n",
    "f, axs = plt.subplots(1, 2)\n",
    "for ind, deconvolved_spec in enumerate(deconvolver_list):\n",
    "    incident_photon_energy = specs['incident_photon_energy'][ind]\n",
    "    label = ''.join([str(incident_photon_energy), ' eV'])\n",
    "    norm = np.amax(deconvolver_list[ind].measured_y_)\n",
    "    axs[0].plot(-1.1*ind+deconvolver_list[ind].measured_y_/norm, 'k--')\n",
    "    axs[0].plot(-1.1*ind+deconvolver_list[ind].reconstruction_y_/norm, label=label)\n",
    "    norm = np.amax(deconvolver_list[ind].deconvolved_y_)\n",
    "    axs[1].plot(-1.1*ind+deconvolver_list[ind].deconvolved_y_/norm)\n",
    "axs[0].set_title('PAX ')\n",
    "axs[1].set_title('Deconvolved')\n",
    "\n",
    "plt.gcf().legend(loc=7)\n",
    "#plt.gca().set_xlabel('Kinetic Energy (eV)')\n",
    "plt.gca().set_ylabel('Intensity (a.u.)')\n",
    "plt.gcf().tight_layout()\n",
    "plt.gcf().subplots_adjust(right=0.8)"
   ]
  },
  {
   "cell_type": "code",
   "execution_count": null,
   "metadata": {},
   "outputs": [],
   "source": []
  }
 ],
 "metadata": {
  "kernelspec": {
   "display_name": "Python 3",
   "language": "python",
   "name": "python3"
  },
  "language_info": {
   "codemirror_mode": {
    "name": "ipython",
    "version": 3
   },
   "file_extension": ".py",
   "mimetype": "text/x-python",
   "name": "python",
   "nbconvert_exporter": "python",
   "pygments_lexer": "ipython3",
   "version": "3.7.7"
  }
 },
 "nbformat": 4,
 "nbformat_minor": 4
}
